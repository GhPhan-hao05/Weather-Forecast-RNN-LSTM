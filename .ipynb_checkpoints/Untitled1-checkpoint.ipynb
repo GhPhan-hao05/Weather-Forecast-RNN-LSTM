{
 "cells": [
  {
   "cell_type": "code",
   "execution_count": 1,
   "id": "2906bcc8",
   "metadata": {},
   "outputs": [],
   "source": [
    "import pandas as pd\n",
    "tu = pd.read_csv('Ho Chi Minh City 2024-04-01 to 2024-04-30.csv')\n",
    "nam = pd.read_csv('Ho Chi Minh City 2024-05-01 to 2024-05-31.csv')\n",
    "ba = pd.read_csv('Ho Chi Minh City 2024-03-01 to 2024-03-31.csv')\n",
    "hai = pd.read_csv('Ho Chi Minh City 2024-02-01 to 2024-02-29.csv')\n",
    "mot = pd.read_csv('Ho Chi Minh City 2024-01-01 to 2024-01-31.csv')\n",
    "mhai = pd.read_csv('Ho Chi Minh City 2023-12-01 to 2023-12-31.csv')\n",
    "mmot = pd.read_csv('Ho Chi Minh City 2023-11-01 to 2023-11-30.csv')\n",
    "muoi = pd.read_csv('Ho Chi Minh City 2023-10-01 to 2023-10-31.csv')"
   ]
  },
  {
   "cell_type": "code",
   "execution_count": 2,
   "id": "1265fe4a",
   "metadata": {},
   "outputs": [],
   "source": [
    "df_combined = pd.concat([muoi, mmot, mhai, mot, hai, ba, tu, nam])"
   ]
  },
  {
   "cell_type": "code",
   "execution_count": 3,
   "id": "14ab2f9b",
   "metadata": {},
   "outputs": [],
   "source": [
    "df_combined.to_csv('combined_file.csv', index=False)"
   ]
  },
  {
   "cell_type": "code",
   "execution_count": 4,
   "id": "123af9a5",
   "metadata": {},
   "outputs": [
    {
     "data": {
      "text/plain": [
       "name                   1\n",
       "datetime            5856\n",
       "temp                 131\n",
       "feelslike            207\n",
       "dew                  118\n",
       "humidity            1795\n",
       "precip                44\n",
       "precipprob             2\n",
       "preciptype             1\n",
       "snow                   1\n",
       "snowdepth              1\n",
       "windgust             129\n",
       "windspeed            174\n",
       "winddir             1075\n",
       "sealevelpressure      67\n",
       "cloudcover           336\n",
       "visibility            69\n",
       "solarradiation       945\n",
       "solarenergy           39\n",
       "uvindex               11\n",
       "severerisk             8\n",
       "conditions             6\n",
       "icon                   6\n",
       "stations               6\n",
       "dtype: int64"
      ]
     },
     "execution_count": 4,
     "metadata": {},
     "output_type": "execute_result"
    }
   ],
   "source": [
    "df = pd.read_csv('combined_file.csv')\n",
    "cout = df.nunique()\n",
    "cout"
   ]
  },
  {
   "cell_type": "code",
   "execution_count": 5,
   "id": "c7d19b16",
   "metadata": {},
   "outputs": [],
   "source": [
    "df['datetime'] = pd.to_datetime(df['datetime'], utc=True)\n",
    "\n",
    "# Trích xuất các thành phần từ cột datetime\n",
    "\n",
    "df['day'] = df['datetime'].dt.day\n",
    "df['month'] = df['datetime'].dt.month\n",
    "df['hour'] = df['datetime'].dt.hour\n",
    "df['weekday'] = df['datetime'].dt.weekday"
   ]
  },
  {
   "cell_type": "markdown",
   "id": "7a522111",
   "metadata": {},
   "source": []
  }
 ],
 "metadata": {
  "kernelspec": {
   "display_name": "Python 3 (ipykernel)",
   "language": "python",
   "name": "python3"
  },
  "language_info": {
   "codemirror_mode": {
    "name": "ipython",
    "version": 3
   },
   "file_extension": ".py",
   "mimetype": "text/x-python",
   "name": "python",
   "nbconvert_exporter": "python",
   "pygments_lexer": "ipython3",
   "version": "3.11.5"
  }
 },
 "nbformat": 4,
 "nbformat_minor": 5
}
