{
 "cells": [
  {
   "cell_type": "code",
   "execution_count": 1,
   "id": "43915dbb",
   "metadata": {},
   "outputs": [],
   "source": [
    "import torch\n",
    "import matplotlib.pyplot as plt\n",
    "import pandas as pd\n",
    "from sklearn.preprocessing import StandardScaler, MinMaxScaler\n",
    "import numpy as np\n",
    "from sklearn.model_selection import train_test_split\n",
    "import torch.nn as nn\n",
    "import torch.optim as optim\n",
    "from torch.utils.data import DataLoader, TensorDataset\n",
    "from sklearn.metrics import mean_absolute_error, mean_squared_error"
   ]
  },
  {
   "cell_type": "code",
   "execution_count": 2,
   "id": "152ea345",
   "metadata": {
    "code_folding": []
   },
   "outputs": [],
   "source": [
    "df = pd.read_csv(\"HCM_weather_42023_42024.csv\")\n",
    "dftest = pd.read_csv('HCM_weather_42023_42024_test.csv')\n",
    "\n"
   ]
  },
  {
   "cell_type": "code",
   "execution_count": 4,
   "id": "0dfd9516",
   "metadata": {},
   "outputs": [],
   "source": [
    "df['datetime'] = pd.to_datetime(df['datetime'], utc=True)\n",
    "\n",
    "# Trích xuất các thành phần từ cột datetime\n",
    "df['month'] = df['datetime'].dt.month\n",
    "df['hour'] = df['datetime'].dt.hour"
   ]
  },
  {
   "cell_type": "code",
   "execution_count": 5,
   "id": "3aa8f360",
   "metadata": {},
   "outputs": [],
   "source": [
    "features = df[['feelslike', 'dew', 'humidity', 'windgust', 'winddir', 'solarradiation', 'visibility', 'cloudcover', 'month', 'hour']]\n",
    "labels = df['temp']"
   ]
  },
  {
   "cell_type": "code",
   "execution_count": 6,
   "id": "350317ad",
   "metadata": {},
   "outputs": [
    {
     "data": {
      "text/plain": [
       "((9504, 10), (9504,))"
      ]
     },
     "execution_count": 6,
     "metadata": {},
     "output_type": "execute_result"
    }
   ],
   "source": [
    "X_train, y_train =features.values, labels.values\n",
    "X_train.shape, y_train.shape"
   ]
  },
  {
   "cell_type": "code",
   "execution_count": 7,
   "id": "ebe9d736",
   "metadata": {},
   "outputs": [],
   "source": [
    "scalers = {}\n",
    "features_ = ['feelslike', 'dew', 'humidity', 'windgust', 'winddir', 'solarradiation', 'visibility', 'cloudcover', 'month', 'day']\n",
    "for i, feature in enumerate(features_):\n",
    "    #scalers[feature] = MinMaxScaler(feature_range=(0, 1))\n",
    "    scalers[feature] = StandardScaler()\n",
    "    X_train[:, i] = scalers[feature].fit_transform(X_train[:,i].reshape(-1, 1)).reshape(-1)\n"
   ]
  },
  {
   "cell_type": "code",
   "execution_count": 10,
   "id": "6c47131e",
   "metadata": {},
   "outputs": [],
   "source": [
    "def create_sequences(X, y, seq_length):\n",
    "    xs, ys = [], []\n",
    "    for i in range(len(X) - seq_length):\n",
    "        x_ = X[i:i+seq_length]\n",
    "        y_ = y[i+seq_length]  # Dự đoán lượng mưa\n",
    "        xs.append(x_)\n",
    "        ys.append(y_)\n",
    "    return np.array(xs), np.array(ys)\n",
    "\n",
    "seq_length = 20 # Sử dụng 20 giờ để dự đoán giờ tiếp theo\n",
    "X_seq, y_seq = create_sequences(X_train, y_train, seq_length)"
   ]
  },
  {
   "cell_type": "code",
   "execution_count": 11,
   "id": "3df84f3c",
   "metadata": {},
   "outputs": [],
   "source": [
    "X_train = torch.tensor(X_seq, dtype=torch.float32)\n",
    "y_train = torch.tensor(y_seq, dtype=torch.float32).unsqueeze(1)"
   ]
  },
  {
   "cell_type": "code",
   "execution_count": 12,
   "id": "82ac5ab5",
   "metadata": {},
   "outputs": [
    {
     "data": {
      "text/plain": [
       "torch.Size([9484, 20, 10])"
      ]
     },
     "execution_count": 12,
     "metadata": {},
     "output_type": "execute_result"
    }
   ],
   "source": [
    "X_train.shape"
   ]
  },
  {
   "cell_type": "code",
   "execution_count": 13,
   "id": "f27cc0a4",
   "metadata": {},
   "outputs": [
    {
     "name": "stdout",
     "output_type": "stream",
     "text": [
      "Using device: cuda\n"
     ]
    }
   ],
   "source": [
    "device = torch.device('cuda' if torch.cuda.is_available() else 'cpu')\n",
    "print(f'Using device: {device}')\n"
   ]
  },
  {
   "cell_type": "code",
   "execution_count": 14,
   "id": "c2859895",
   "metadata": {},
   "outputs": [
    {
     "name": "stdout",
     "output_type": "stream",
     "text": [
      "torch.Size([9484, 20, 10])\n",
      "Epoch 0, Loss: 29.138696670532227\n",
      "Epoch 100, Loss: 6.070045471191406\n",
      "Epoch 200, Loss: 2.1512768268585205\n",
      "Epoch 300, Loss: 0.8894159197807312\n",
      "Epoch 400, Loss: 0.7066817879676819\n",
      "Epoch 500, Loss: 0.6644251942634583\n",
      "Epoch 600, Loss: 0.6303276419639587\n",
      "Epoch 700, Loss: 0.6086217761039734\n",
      "Epoch 800, Loss: 0.5925964117050171\n",
      "Epoch 900, Loss: 0.5708107352256775\n"
     ]
    }
   ],
   "source": [
    "X_train=X_train.to(device)\n",
    "print(X_train.shape)\n",
    "y_train=y_train.to(device)\n",
    "class WeatherRNN(nn.Module):\n",
    "    def __init__(self, input_size, hidden_layer_size=512, output_size=1, n_layers=1):\n",
    "        super(WeatherRNN, self).__init__()\n",
    "        self.hidden_layer_size = hidden_layer_size\n",
    "        self.rnn = nn.RNN(input_size, hidden_layer_size, 1, batch_first=True)\n",
    "        self.linear = nn.Linear(hidden_layer_size, output_size)\n",
    "\n",
    "    def forward(self, input_seq):\n",
    "        h0 = torch.zeros(1, input_seq.size(0), self.hidden_layer_size).to(device) \n",
    "        #h0 là kích thước của toàn bộ hidden(# lớp hidden, số time step, size của mỗi timestep)\n",
    "        out, hn = self.rnn(input_seq, h0)\n",
    "        # số cụm, 24, 9\n",
    "        out = self.linear(out[:, -1, :])\n",
    "        \n",
    "        return out\n",
    "\n",
    "input_size = len(features_)\n",
    "model = WeatherRNN(input_size).to(device)\n",
    "loss_function = nn.L1Loss()\n",
    "optimizer = optim.Adam(model.parameters(), lr=0.001, weight_decay=0.01)\n",
    "\n",
    "epochs = 1000\n",
    "for epoch in range(epochs):\n",
    "    model.train()\n",
    "    optimizer.zero_grad()\n",
    "    y_pred = model(X_train)\n",
    "    loss = loss_function(y_pred, y_train)\n",
    "    loss.backward()\n",
    "    optimizer.step()\n",
    "    if epoch % 100 == 0:\n",
    "        print(f'Epoch {epoch}, Loss: {loss.item()}')\n"
   ]
  },
  {
   "cell_type": "code",
   "execution_count": null,
   "id": "d5947d09",
   "metadata": {},
   "outputs": [],
   "source": [
    "torch.save(model, 'modelRNN.pth')"
   ]
  },
  {
   "cell_type": "code",
   "execution_count": null,
   "id": "290f39c4",
   "metadata": {},
   "outputs": [],
   "source": [
    "# modelx = WeatherRNN(input_size, hidden_layer_size=512, output_size=1, n_layers=1)\n",
    "\n",
    "# modelx = torch.load('modelRNN.pth')"
   ]
  },
  {
   "cell_type": "code",
   "execution_count": 16,
   "id": "fe3cc83d",
   "metadata": {},
   "outputs": [],
   "source": [
    "dftest['datetime'] = pd.to_datetime(dftest['datetime'], utc=True)\n",
    "\n",
    "# Trích xuất các thành phần từ cột datetime\n",
    "dftest['month'] = dftest['datetime'].dt.month\n",
    "dftest['hour'] = dftest['datetime'].dt.hour\n",
    "features_test = dftest[['feelslike', 'dew', 'humidity', 'windgust', 'winddir', 'solarradiation', 'visibility', 'cloudcover', 'month', 'hour']]\n",
    "labels_test = dftest['temp']\n",
    "X_test, y_test =features_test.values, labels_test.values\n"
   ]
  },
  {
   "cell_type": "code",
   "execution_count": 17,
   "id": "a43e4195",
   "metadata": {},
   "outputs": [],
   "source": [
    "for i, feature in enumerate(features_):\n",
    "    X_test[:, i] = scalers[feature].transform(X_test[:,i].reshape(-1, 1)).reshape(-1)"
   ]
  },
  {
   "cell_type": "code",
   "execution_count": 18,
   "id": "d649282e",
   "metadata": {},
   "outputs": [],
   "source": [
    "X_seq_test, y_seq_test = create_sequences(X_test, y_test, seq_length)"
   ]
  },
  {
   "cell_type": "code",
   "execution_count": 19,
   "id": "a9effc51",
   "metadata": {},
   "outputs": [],
   "source": [
    "X_test_t = torch.tensor(X_seq_test, dtype=torch.float32).to(device)\n",
    "y_test_t = torch.tensor(y_seq_test, dtype=torch.float32).unsqueeze(1).to(device)"
   ]
  },
  {
   "cell_type": "code",
   "execution_count": 20,
   "id": "f8dbdc08",
   "metadata": {},
   "outputs": [
    {
     "data": {
      "text/plain": [
       "torch.Size([772, 1])"
      ]
     },
     "execution_count": 20,
     "metadata": {},
     "output_type": "execute_result"
    }
   ],
   "source": [
    "y_test_t.shape"
   ]
  },
  {
   "cell_type": "code",
   "execution_count": 22,
   "id": "b9a7ce47",
   "metadata": {},
   "outputs": [
    {
     "name": "stdout",
     "output_type": "stream",
     "text": [
      "accuracy:  0.744728\n"
     ]
    }
   ],
   "source": [
    "model.eval()\n",
    "with torch.no_grad():\n",
    "    predictions = model(X_test_t)\n",
    "predictions = predictions.cpu()\n",
    "print('accuracy: ', mean_absolute_error(y_test_t.cpu(), predictions))\n"
   ]
  },
  {
   "cell_type": "code",
   "execution_count": 23,
   "id": "f7b54839",
   "metadata": {
    "scrolled": false
   },
   "outputs": [
    {
     "data": {
      "image/png": "[encoded data removed]",
      "text/plain": [
       "<Figure size 640x480 with 1 Axes>"
      ]
     },
     "metadata": {},
     "output_type": "display_data"
    }
   ],
   "source": [
    "\n",
    "plt.plot(np.arange(199), y_test_t.cpu())\n",
    "plt.plot(np.arange(199), predictions.cpu())\n",
    "plt.show()"
   ]
  },
  {
   "cell_type": "code",
   "execution_count": 1,
   "id": "4f87a4fb",
   "metadata": {},
   "outputs": [
    {
     "name": "stderr",
     "output_type": "stream",
     "text": [
      "[NbConvertApp] Converting notebook RNN_Timesr_Weather.ipynb to script\n",
      "[NbConvertApp] Writing 4717 bytes to RNN_Timesr_Weather.py\n"
     ]
    }
   ],
   "source": [
    "!jupyter nbconvert --to script RNN_Timesr_Weather.ipynb"
   ]
  },
  {
   "cell_type": "code",
   "execution_count": null,
   "id": "1c402505",
   "metadata": {},
   "outputs": [],
   "source": []
  }
 ],
 "metadata": {
  "kernelspec": {
   "display_name": "Python 3 (ipykernel)",
   "language": "python",
   "name": "python3"
  },
  "language_info": {
   "codemirror_mode": {
    "name": "ipython",
    "version": 3
   },
   "file_extension": ".py",
   "mimetype": "text/x-python",
   "name": "python",
   "nbconvert_exporter": "python",
   "pygments_lexer": "ipython3",
   "version": "3.11.5"
  }
 },
 "nbformat": 4,
 "nbformat_minor": 5
}
